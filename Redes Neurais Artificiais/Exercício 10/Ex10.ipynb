{
 "metadata": {
  "language_info": {
   "codemirror_mode": {
    "name": "ipython",
    "version": 3
   },
   "file_extension": ".py",
   "mimetype": "text/x-python",
   "name": "python",
   "nbconvert_exporter": "python",
   "pygments_lexer": "ipython3",
   "version": "3.8.5-final"
  },
  "orig_nbformat": 2,
  "kernelspec": {
   "name": "python3",
   "display_name": "Python 3.8.5 64-bit (conda)",
   "metadata": {
    "interpreter": {
     "hash": "27cd2b025cf7a4378c0151e49e6b1a9cf2095bc8764b6fb84c75c73c9c6afc0e"
    }
   }
  }
 },
 "nbformat": 4,
 "nbformat_minor": 2,
 "cells": [
  {
   "source": [
    "**Aluno**: Leonam Rezende Soares de Miranda\n",
    "\n",
    "O objetivo dos exercícios desta semana é utilizar redes MLP para resolver problemas multidimensionais, a partir de bases de dados reais. Assim serão aplicadas MLP em duas bases de dados: *Boston Housing* e *Statlog (Heart)*. Neste exercício serão empregados pacotes de treinamento de redes neurais fornecidos pelo *Scikit-Learn*.\n",
    "\n",
    "## Boston Housing\n",
    "O código a seguir faz a importação dos pacotes que serão utilizados e da base de dados"
   ],
   "cell_type": "markdown",
   "metadata": {}
  },
  {
   "cell_type": "code",
   "execution_count": 76,
   "metadata": {},
   "outputs": [
    {
     "output_type": "stream",
     "name": "stdout",
     "text": [
      "(506, 13)\n"
     ]
    }
   ],
   "source": [
    "import numpy as np\n",
    "import pandas as pd\n",
    "import matplotlib.pyplot as plt\n",
    "from sklearn.datasets import load_boston\n",
    "from sklearn.model_selection import train_test_split, GridSearchCV\n",
    "from sklearn.preprocessing import StandardScaler\n",
    "from sklearn.neural_network import MLPRegressor, MLPClassifier\n",
    "from sklearn.metrics import mean_squared_error, r2_score\n",
    "\n",
    "boston = load_boston()\n",
    "print(boston.data.shape)"
   ]
  },
  {
   "source": [
    "A seguir, será feito o pré-processamento dos dados."
   ],
   "cell_type": "markdown",
   "metadata": {}
  },
  {
   "cell_type": "code",
   "execution_count": 18,
   "metadata": {},
   "outputs": [],
   "source": [
    "X = boston.data\n",
    "Y = boston.target\n",
    "\n",
    "# Divide os atributos em conjunto de treinamento e de testes na razaõ 75%/ 25%\n",
    "X_train, X_test, y_train, y_test = train_test_split(X, Y) \n",
    "\n",
    "# Aplica a mesma escala para ambos os datasets\n",
    "scaler = StandardScaler()\n",
    "X_train_scl = scaler.fit_transform(X_train)\n",
    "X_test_scl = scaler.transform(X_test) # note that we transform rather than fit_transform"
   ]
  },
  {
   "source": [
    "No codigo abaixo será feito uma busca em grid, avaliando o MSE médio de validação cruzada com 10 folds, para encontrar a melhor arquitetura de rede neural (variando o número de neurônios e funções de ativação). As funções de ativação da camada intermediária que serão avaliadas estão definidas a seguir:\n",
    "\n",
    "* ***identity***, no-op activation, useful to implement linear bottleneck, returns f(x) = x\n",
    "\n",
    "* ***logistic***, the logistic sigmoid function, returns f(x) = 1 / (1 + exp(-x)).\n",
    "\n",
    "* ***tanh***, the hyperbolic tan function, returns f(x) = tanh(x).\n",
    "\n",
    "* ***relu***, the rectified linear unit function, returns f(x) = max(0, x)\n",
    "\n",
    "\n",
    "Serão avaliados modelos com número de neurônios na camada intermediária iguais a $2^î$ $\\forall i \\in [1, 11]$."
   ],
   "cell_type": "markdown",
   "metadata": {}
  },
  {
   "cell_type": "code",
   "execution_count": 70,
   "metadata": {},
   "outputs": [
    {
     "output_type": "stream",
     "name": "stderr",
     "text": [
      "C:\\Users\\Leonam\\anaconda3\\lib\\site-packages\\sklearn\\neural_network\\_multilayer_perceptron.py:582: ConvergenceWarning: Stochastic Optimizer: Maximum iterations (200) reached and the optimization hasn't converged yet.\n  warnings.warn(\n"
     ]
    },
    {
     "output_type": "execute_result",
     "data": {
      "text/plain": [
       "GridSearchCV(cv=10, estimator=MLPRegressor(tol=0.005), n_jobs=-1,\n",
       "             param_grid={'activation': ['identity', 'logistic', 'tanh', 'relu'],\n",
       "                         'hidden_layer_sizes': [(2,), (4,), (8,), (16,), (32,),\n",
       "                                                (64,), (128,), (256,), (512,),\n",
       "                                                (1024,), (2048,)]},\n",
       "             scoring='neg_mean_squared_error')"
      ]
     },
     "metadata": {},
     "execution_count": 70
    }
   ],
   "source": [
    "NNeuronios = [(2,), (4,), (8,), (16,), (32,), (64,), (128,), (256,), (512,), (1024,), (2048,)]\n",
    "activations = ['identity', 'logistic', 'tanh', 'relu']\n",
    "\n",
    "parameters = {'hidden_layer_sizes':NNeuronios, 'activation':activations}\n",
    "model = MLPRegressor(tol=0.5e-2)\n",
    "\n",
    "clf = GridSearchCV(model, parameters, scoring='neg_mean_squared_error', n_jobs = -1, cv = 10)\n",
    "clf.fit(X_train_scl, y_train)"
   ]
  },
  {
   "cell_type": "code",
   "execution_count": 71,
   "metadata": {},
   "outputs": [
    {
     "output_type": "stream",
     "name": "stdout",
     "text": [
      "Ao utilizar (2048,) neurônios na camada intermediária e função de ativação 'relu' foi encontrado o menor MSE médio de validação cruzada sobre o conjunto de treinamento: 11.922 +/- 4.839%\n"
     ]
    }
   ],
   "source": [
    "idx = np.where(clf.cv_results_['mean_test_score'] == np.max(clf.cv_results_['mean_test_score']))[0][0]\n",
    "best_MSE = clf.cv_results_['mean_test_score'][idx]\n",
    "best_MSE_std = clf.cv_results_['std_test_score'][idx]\n",
    "\n",
    "best_Nneuronios = clf.best_params_['hidden_layer_sizes']\n",
    "best_activation = clf.best_params_['activation']\n",
    "\n",
    "print('Ao utilizar {} neurônios na camada intermediária e função de ativação \\'{}\\' foi encontrado o menor MSE médio de validação cruzada sobre o conjunto de treinamento: {} +/- {}%'.format(best_Nneuronios, best_activation, round(-1*best_MSE,3), round(best_MSE_std, 3)))"
   ]
  },
  {
   "source": [
    "Após encontrar os parâmetros do melhor modelo, o mesmo foi validado sobre o conjunto de testes. Serão feitas 10 execuções diferentes e ao final será apresentado o $MSE\\_médio \\pm desvio\\_padrao$."
   ],
   "cell_type": "markdown",
   "metadata": {}
  },
  {
   "cell_type": "code",
   "execution_count": 89,
   "metadata": {},
   "outputs": [
    {
     "output_type": "stream",
     "name": "stdout",
     "text": [
      "MSE médio e desvio padrão sobre o conjunto de testes após dez tentativas 17.457 +/- 0.487\nR2 score médio e desvio padrão sobre o conjunto de testes após dez tentativas 0.809 +/- 0.005\n"
     ]
    }
   ],
   "source": [
    "execucoes = 10\n",
    "\n",
    "MSE_array = np.zeros(execucoes)\n",
    "R2scores_array = np.zeros(execucoes)\n",
    "\n",
    "for i in range(execucoes):\n",
    "    regression_model = MLPRegressor(hidden_layer_sizes=best_Nneuronios, activation=best_activation, max_iter=2000)\n",
    "    regression_model.fit(X_train, y_train)\n",
    "    MSE_array[i] = mean_squared_error(y_test, regression_model.predict(X_test))\n",
    "    R2scores_array[i] = r2_score(y_test, regression_model.predict(X_test))\n",
    "\n",
    "print('MSE médio e desvio padrão sobre o conjunto de testes após dez tentativas {} +/- {}'.format(round(np.mean(MSE_array),3), round(np.std(MSE_array),3)))\n",
    "print('R2 score médio e desvio padrão sobre o conjunto de testes após dez tentativas {} +/- {}'.format(round(np.mean(R2scores_array),3), round(np.std(R2scores_array),3)))"
   ]
  },
  {
   "source": [
    "## Statlog (Heart)\n",
    "\n",
    "A mesma análise que foi feita na base de dados *Boston Housing* será feita a seguir na base de dados *Statlog (Heart)*.\n",
    "\n",
    "No código a seguir foi feita a importação e o pré-processamento dos dados."
   ],
   "cell_type": "markdown",
   "metadata": {}
  },
  {
   "cell_type": "code",
   "execution_count": 91,
   "metadata": {},
   "outputs": [],
   "source": [
    "data = []\n",
    "\n",
    "with open('heart.dat','r') as token:\n",
    "    for line in token:\n",
    "        data.append(line.split())\n",
    "\n",
    "data = np.asarray(data)\n",
    "Y = np.squeeze(data[:,-1].astype(np.int))\n",
    "X = data[:,0:-1]\n",
    "\n",
    "# Mapeia os rótulos binários de forma que negativo = -1 e positivo = +1\n",
    "Y[Y==1] = int(-1)\n",
    "Y[Y==2] = int(1)\n",
    "# Separa os dados de forma aleatória - 70% para treinamento e 30% para testes\n",
    "X_train, X_test, Y_train, Y_test = train_test_split(X, Y, test_size=0.3)\n",
    "\n",
    "# Aplica a mesma escala para ambos os datasets\n",
    "scaler = StandardScaler()\n",
    "X_train_scl = scaler.fit_transform(X_train)\n",
    "X_test_scl = scaler.transform(X_test) # note that we transform rather than fit_transform"
   ]
  },
  {
   "source": [
    "No codigo abaixo será feito uma busca em grid, avaliando o AUC médio de validação cruzada com 10 folds, para encontrar a melhor arquitetura de rede neural (variando o número de neurônios e funções de ativação)."
   ],
   "cell_type": "markdown",
   "metadata": {}
  },
  {
   "cell_type": "code",
   "execution_count": 97,
   "metadata": {},
   "outputs": [
    {
     "output_type": "stream",
     "name": "stderr",
     "text": [
      "C:\\Users\\Leonam\\anaconda3\\lib\\site-packages\\sklearn\\neural_network\\_multilayer_perceptron.py:582: ConvergenceWarning: Stochastic Optimizer: Maximum iterations (200) reached and the optimization hasn't converged yet.\n  warnings.warn(\n"
     ]
    },
    {
     "output_type": "execute_result",
     "data": {
      "text/plain": [
       "GridSearchCV(cv=10, estimator=MLPClassifier(), n_jobs=-1,\n",
       "             param_grid={'activation': ['identity', 'logistic', 'tanh', 'relu'],\n",
       "                         'hidden_layer_sizes': [(2,), (4,), (8,), (16,), (32,),\n",
       "                                                (64,), (128,), (256,), (512,),\n",
       "                                                (1024,), (2048,)]},\n",
       "             scoring='roc_auc')"
      ]
     },
     "metadata": {},
     "execution_count": 97
    }
   ],
   "source": [
    "NNeuronios = [(2,), (4,), (8,), (16,), (32,), (64,), (128,), (256,), (512,), (1024,), (2048,)]\n",
    "activations = ['identity', 'logistic', 'tanh', 'relu']\n",
    "\n",
    "parameters = {'hidden_layer_sizes':NNeuronios, 'activation':activations}\n",
    "model = MLPClassifier()\n",
    "\n",
    "clf = GridSearchCV(model, parameters, scoring='roc_auc', n_jobs = -1, cv = 10)\n",
    "clf.fit(X_train_scl, Y_train)"
   ]
  },
  {
   "cell_type": "code",
   "execution_count": null,
   "metadata": {},
   "outputs": [],
   "source": [
    "idx = np.where(clf.cv_results_['mean_test_score'] == np.max(clf.cv_results_['mean_test_score']))[0][0]\n",
    "best_AUC = clf.cv_results_['mean_test_score'][idx]\n",
    "best_AUC_std = clf.cv_results_['std_test_score'][idx]\n",
    "\n",
    "best_Nneuronios = clf.best_params_['hidden_layer_sizes']\n",
    "best_activation = clf.best_params_['activation']\n",
    "\n",
    "print('Ao utilizar {} neurônios na camada intermediária e função de ativação \\'{}\\' foi encontrado o maior AUC médio de validação cruzada sobre o conjunto de treinamento: {} +/- {}%'.format(best_Nneuronios, best_activation, round(best_AUC,3), round(best_AUC_std, 3)))"
   ]
  }
 ]
}