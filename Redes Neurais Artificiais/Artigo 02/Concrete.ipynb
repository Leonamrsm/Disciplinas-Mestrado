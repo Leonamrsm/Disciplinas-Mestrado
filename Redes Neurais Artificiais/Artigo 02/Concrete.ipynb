{
 "metadata": {
  "language_info": {
   "codemirror_mode": {
    "name": "ipython",
    "version": 3
   },
   "file_extension": ".py",
   "mimetype": "text/x-python",
   "name": "python",
   "nbconvert_exporter": "python",
   "pygments_lexer": "ipython3",
   "version": "3.8.5-final"
  },
  "orig_nbformat": 2,
  "kernelspec": {
   "name": "python3",
   "display_name": "Python 3.8.5 64-bit (conda)",
   "metadata": {
    "interpreter": {
     "hash": "27cd2b025cf7a4378c0151e49e6b1a9cf2095bc8764b6fb84c75c73c9c6afc0e"
    }
   }
  }
 },
 "nbformat": 4,
 "nbformat_minor": 2,
 "cells": [
  {
   "cell_type": "code",
   "execution_count": 1,
   "metadata": {},
   "outputs": [],
   "source": [
    "import numpy as np\n",
    "import pandas as pd\n",
    "import random\n",
    "import matplotlib.pyplot as plt\n",
    "\n",
    "from sklearn.preprocessing import StandardScaler\n",
    "from sklearn.decomposition import PCA\n",
    "from sklearn.model_selection import train_test_split, GridSearchCV\n",
    "from sklearn.linear_model import Perceptron\n",
    "from sklearn.metrics import make_scorer, roc_auc_score\n",
    "\n",
    "from Classificadores import ELM, RBF, ELMHebbiano, getRegressionScores"
   ]
  },
  {
   "cell_type": "code",
   "execution_count": 2,
   "metadata": {},
   "outputs": [
    {
     "output_type": "execute_result",
     "data": {
      "text/plain": [
       "   Cement (component 1)(kg in a m^3 mixture)  \\\n",
       "0                                      540.0   \n",
       "1                                      540.0   \n",
       "2                                      332.5   \n",
       "3                                      332.5   \n",
       "4                                      198.6   \n",
       "\n",
       "   Blast Furnace Slag (component 2)(kg in a m^3 mixture)  \\\n",
       "0                                                0.0       \n",
       "1                                                0.0       \n",
       "2                                              142.5       \n",
       "3                                              142.5       \n",
       "4                                              132.4       \n",
       "\n",
       "   Fly Ash (component 3)(kg in a m^3 mixture)  \\\n",
       "0                                         0.0   \n",
       "1                                         0.0   \n",
       "2                                         0.0   \n",
       "3                                         0.0   \n",
       "4                                         0.0   \n",
       "\n",
       "   Water  (component 4)(kg in a m^3 mixture)  \\\n",
       "0                                      162.0   \n",
       "1                                      162.0   \n",
       "2                                      228.0   \n",
       "3                                      228.0   \n",
       "4                                      192.0   \n",
       "\n",
       "   Superplasticizer (component 5)(kg in a m^3 mixture)  \\\n",
       "0                                                2.5     \n",
       "1                                                2.5     \n",
       "2                                                0.0     \n",
       "3                                                0.0     \n",
       "4                                                0.0     \n",
       "\n",
       "   Coarse Aggregate  (component 6)(kg in a m^3 mixture)  \\\n",
       "0                                             1040.0      \n",
       "1                                             1055.0      \n",
       "2                                              932.0      \n",
       "3                                              932.0      \n",
       "4                                              978.4      \n",
       "\n",
       "   Fine Aggregate (component 7)(kg in a m^3 mixture)  Age (day)  \\\n",
       "0                                              676.0         28   \n",
       "1                                              676.0         28   \n",
       "2                                              594.0        270   \n",
       "3                                              594.0        365   \n",
       "4                                              825.5        360   \n",
       "\n",
       "   Concrete compressive strength(MPa, megapascals)   \n",
       "0                                         79.986111  \n",
       "1                                         61.887366  \n",
       "2                                         40.269535  \n",
       "3                                         41.052780  \n",
       "4                                         44.296075  "
      ],
      "text/html": "<div>\n<style scoped>\n    .dataframe tbody tr th:only-of-type {\n        vertical-align: middle;\n    }\n\n    .dataframe tbody tr th {\n        vertical-align: top;\n    }\n\n    .dataframe thead th {\n        text-align: right;\n    }\n</style>\n<table border=\"1\" class=\"dataframe\">\n  <thead>\n    <tr style=\"text-align: right;\">\n      <th></th>\n      <th>Cement (component 1)(kg in a m^3 mixture)</th>\n      <th>Blast Furnace Slag (component 2)(kg in a m^3 mixture)</th>\n      <th>Fly Ash (component 3)(kg in a m^3 mixture)</th>\n      <th>Water  (component 4)(kg in a m^3 mixture)</th>\n      <th>Superplasticizer (component 5)(kg in a m^3 mixture)</th>\n      <th>Coarse Aggregate  (component 6)(kg in a m^3 mixture)</th>\n      <th>Fine Aggregate (component 7)(kg in a m^3 mixture)</th>\n      <th>Age (day)</th>\n      <th>Concrete compressive strength(MPa, megapascals)</th>\n    </tr>\n  </thead>\n  <tbody>\n    <tr>\n      <th>0</th>\n      <td>540.0</td>\n      <td>0.0</td>\n      <td>0.0</td>\n      <td>162.0</td>\n      <td>2.5</td>\n      <td>1040.0</td>\n      <td>676.0</td>\n      <td>28</td>\n      <td>79.986111</td>\n    </tr>\n    <tr>\n      <th>1</th>\n      <td>540.0</td>\n      <td>0.0</td>\n      <td>0.0</td>\n      <td>162.0</td>\n      <td>2.5</td>\n      <td>1055.0</td>\n      <td>676.0</td>\n      <td>28</td>\n      <td>61.887366</td>\n    </tr>\n    <tr>\n      <th>2</th>\n      <td>332.5</td>\n      <td>142.5</td>\n      <td>0.0</td>\n      <td>228.0</td>\n      <td>0.0</td>\n      <td>932.0</td>\n      <td>594.0</td>\n      <td>270</td>\n      <td>40.269535</td>\n    </tr>\n    <tr>\n      <th>3</th>\n      <td>332.5</td>\n      <td>142.5</td>\n      <td>0.0</td>\n      <td>228.0</td>\n      <td>0.0</td>\n      <td>932.0</td>\n      <td>594.0</td>\n      <td>365</td>\n      <td>41.052780</td>\n    </tr>\n    <tr>\n      <th>4</th>\n      <td>198.6</td>\n      <td>132.4</td>\n      <td>0.0</td>\n      <td>192.0</td>\n      <td>0.0</td>\n      <td>978.4</td>\n      <td>825.5</td>\n      <td>360</td>\n      <td>44.296075</td>\n    </tr>\n  </tbody>\n</table>\n</div>"
     },
     "metadata": {},
     "execution_count": 2
    }
   ],
   "source": [
    "# Importação dos dados\n",
    "data = pd.read_excel('./datasets/Concrete_Compressive_Strength/Concrete_Data.xls')\n",
    "data.head()"
   ]
  },
  {
   "cell_type": "code",
   "execution_count": 3,
   "metadata": {},
   "outputs": [
    {
     "output_type": "execute_result",
     "data": {
      "text/plain": [
       "0"
      ]
     },
     "metadata": {},
     "execution_count": 3
    }
   ],
   "source": [
    "data.shape# taking the count of Null/Nan of the entire dataframe \n",
    "data.isnull().sum().sum()"
   ]
  },
  {
   "cell_type": "code",
   "execution_count": 4,
   "metadata": {},
   "outputs": [
    {
     "output_type": "stream",
     "name": "stdout",
     "text": [
      "<class 'pandas.core.frame.DataFrame'>\nRangeIndex: 1030 entries, 0 to 1029\nData columns (total 9 columns):\n #   Column                                                 Non-Null Count  Dtype  \n---  ------                                                 --------------  -----  \n 0   Cement (component 1)(kg in a m^3 mixture)              1030 non-null   float64\n 1   Blast Furnace Slag (component 2)(kg in a m^3 mixture)  1030 non-null   float64\n 2   Fly Ash (component 3)(kg in a m^3 mixture)             1030 non-null   float64\n 3   Water  (component 4)(kg in a m^3 mixture)              1030 non-null   float64\n 4   Superplasticizer (component 5)(kg in a m^3 mixture)    1030 non-null   float64\n 5   Coarse Aggregate  (component 6)(kg in a m^3 mixture)   1030 non-null   float64\n 6   Fine Aggregate (component 7)(kg in a m^3 mixture)      1030 non-null   float64\n 7   Age (day)                                              1030 non-null   int64  \n 8   Concrete compressive strength(MPa, megapascals)        1030 non-null   float64\ndtypes: float64(8), int64(1)\nmemory usage: 72.5 KB\n"
     ]
    }
   ],
   "source": [
    "data.info()"
   ]
  },
  {
   "cell_type": "code",
   "execution_count": 4,
   "metadata": {},
   "outputs": [],
   "source": [
    "# data information\n",
    "y = np.array(data.iloc[0:data.shape[0], -1])\n",
    "\n",
    "X = np.array(data.iloc[0:data.shape[0], 0:-1])"
   ]
  },
  {
   "cell_type": "code",
   "execution_count": 5,
   "metadata": {},
   "outputs": [],
   "source": [
    "# Divide os atributos em conjunto de treinamento e de testes na razaõ 75%/ 25%\n",
    "X_train, X_test, y_train, y_test = train_test_split(X, y) "
   ]
  },
  {
   "cell_type": "code",
   "execution_count": 6,
   "metadata": {},
   "outputs": [],
   "source": [
    "# Aplica a mesma escala para ambos os datasets\n",
    "scaler = StandardScaler()\n",
    "X_train_scl = scaler.fit_transform(X_train)\n",
    "X_test_scl = scaler.transform(X_test) # note that we transform rather than fit_transform"
   ]
  },
  {
   "cell_type": "code",
   "execution_count": 7,
   "metadata": {},
   "outputs": [
    {
     "output_type": "execute_result",
     "data": {
      "text/plain": [
       "                  0             1             2             3             4  \\\n",
       "count  7.720000e+02  7.720000e+02  7.720000e+02  7.720000e+02  7.720000e+02   \n",
       "mean  -9.753281e-16 -6.224152e-16 -3.215620e-16  6.823270e-15  1.175801e-15   \n",
       "std    1.000648e+00  1.000648e+00  1.000648e+00  1.000648e+00  1.000648e+00   \n",
       "min   -1.715476e+00 -8.694585e-01 -8.416605e-01 -2.782200e+00 -1.049681e+00   \n",
       "25%   -8.489622e-01 -8.694585e-01 -8.416605e-01 -7.716863e-01 -1.049681e+00   \n",
       "50%   -7.907599e-02 -5.885830e-01 -8.416605e-01  1.182511e-01  4.657124e-02   \n",
       "75%    7.210092e-01  8.248644e-01  1.025979e+00  4.909998e-01  6.717906e-01   \n",
       "max    2.379614e+00  3.336652e+00  2.318182e+00  3.053647e+00  4.406163e+00   \n",
       "\n",
       "                  5             6             7  \n",
       "count  7.720000e+02  7.720000e+02  7.720000e+02  \n",
       "mean   1.399427e-15  3.562061e-15  1.661020e-17  \n",
       "std    1.000648e+00  1.000648e+00  1.000648e+00  \n",
       "min   -2.186301e+00 -2.163904e+00 -7.074567e-01  \n",
       "25%   -5.280828e-01 -5.394293e-01 -6.108545e-01  \n",
       "50%   -7.618667e-02  6.711053e-02 -2.727469e-01  \n",
       "75%    7.067201e-01  6.256288e-01  1.780634e-01  \n",
       "max    2.168104e+00  2.712884e+00  5.153076e+00  "
      ],
      "text/html": "<div>\n<style scoped>\n    .dataframe tbody tr th:only-of-type {\n        vertical-align: middle;\n    }\n\n    .dataframe tbody tr th {\n        vertical-align: top;\n    }\n\n    .dataframe thead th {\n        text-align: right;\n    }\n</style>\n<table border=\"1\" class=\"dataframe\">\n  <thead>\n    <tr style=\"text-align: right;\">\n      <th></th>\n      <th>0</th>\n      <th>1</th>\n      <th>2</th>\n      <th>3</th>\n      <th>4</th>\n      <th>5</th>\n      <th>6</th>\n      <th>7</th>\n    </tr>\n  </thead>\n  <tbody>\n    <tr>\n      <th>count</th>\n      <td>7.720000e+02</td>\n      <td>7.720000e+02</td>\n      <td>7.720000e+02</td>\n      <td>7.720000e+02</td>\n      <td>7.720000e+02</td>\n      <td>7.720000e+02</td>\n      <td>7.720000e+02</td>\n      <td>7.720000e+02</td>\n    </tr>\n    <tr>\n      <th>mean</th>\n      <td>-9.753281e-16</td>\n      <td>-6.224152e-16</td>\n      <td>-3.215620e-16</td>\n      <td>6.823270e-15</td>\n      <td>1.175801e-15</td>\n      <td>1.399427e-15</td>\n      <td>3.562061e-15</td>\n      <td>1.661020e-17</td>\n    </tr>\n    <tr>\n      <th>std</th>\n      <td>1.000648e+00</td>\n      <td>1.000648e+00</td>\n      <td>1.000648e+00</td>\n      <td>1.000648e+00</td>\n      <td>1.000648e+00</td>\n      <td>1.000648e+00</td>\n      <td>1.000648e+00</td>\n      <td>1.000648e+00</td>\n    </tr>\n    <tr>\n      <th>min</th>\n      <td>-1.715476e+00</td>\n      <td>-8.694585e-01</td>\n      <td>-8.416605e-01</td>\n      <td>-2.782200e+00</td>\n      <td>-1.049681e+00</td>\n      <td>-2.186301e+00</td>\n      <td>-2.163904e+00</td>\n      <td>-7.074567e-01</td>\n    </tr>\n    <tr>\n      <th>25%</th>\n      <td>-8.489622e-01</td>\n      <td>-8.694585e-01</td>\n      <td>-8.416605e-01</td>\n      <td>-7.716863e-01</td>\n      <td>-1.049681e+00</td>\n      <td>-5.280828e-01</td>\n      <td>-5.394293e-01</td>\n      <td>-6.108545e-01</td>\n    </tr>\n    <tr>\n      <th>50%</th>\n      <td>-7.907599e-02</td>\n      <td>-5.885830e-01</td>\n      <td>-8.416605e-01</td>\n      <td>1.182511e-01</td>\n      <td>4.657124e-02</td>\n      <td>-7.618667e-02</td>\n      <td>6.711053e-02</td>\n      <td>-2.727469e-01</td>\n    </tr>\n    <tr>\n      <th>75%</th>\n      <td>7.210092e-01</td>\n      <td>8.248644e-01</td>\n      <td>1.025979e+00</td>\n      <td>4.909998e-01</td>\n      <td>6.717906e-01</td>\n      <td>7.067201e-01</td>\n      <td>6.256288e-01</td>\n      <td>1.780634e-01</td>\n    </tr>\n    <tr>\n      <th>max</th>\n      <td>2.379614e+00</td>\n      <td>3.336652e+00</td>\n      <td>2.318182e+00</td>\n      <td>3.053647e+00</td>\n      <td>4.406163e+00</td>\n      <td>2.168104e+00</td>\n      <td>2.712884e+00</td>\n      <td>5.153076e+00</td>\n    </tr>\n  </tbody>\n</table>\n</div>"
     },
     "metadata": {},
     "execution_count": 7
    }
   ],
   "source": [
    "pd.DataFrame(X_train_scl).describe()"
   ]
  },
  {
   "source": [
    "### ELM"
   ],
   "cell_type": "markdown",
   "metadata": {}
  },
  {
   "cell_type": "code",
   "execution_count": 8,
   "metadata": {},
   "outputs": [],
   "source": [
    "NNeuronios = [2, 4, 8, 16, 32, 64, 128, 256, 512, 1024]\n",
    "lambdas = [0, 0.0001, 0.001, 0.01, 0.1, 1, 10, 100, 1000, 10000]\n",
    "\n",
    "parameters = {'p':NNeuronios, 'lambdar':lambdas}\n",
    "model = ELM( classificator = False)\n",
    "\n",
    "clf = GridSearchCV(model, parameters, n_jobs = -1, cv = 10)\n",
    "clf.fit(X_train_scl, y_train)"
   ]
  },
  {
   "cell_type": "code",
   "execution_count": null,
   "metadata": {},
   "outputs": [],
   "source": [
    "idx = np.where(clf.cv_results_['mean_test_score'] == np.amax(clf.cv_results_['mean_test_score']))[0][0]\n",
    "best_score = clf.cv_results_['mean_test_score'][idx]\n",
    "best_score_std = clf.cv_results_['std_test_score'][idx]\n",
    "\n",
    "best_Nneuronios = clf.best_params_['p']\n",
    "best_lambda = clf.best_params_['lambdar']\n",
    "\n",
    "print('Ao utilizar {} neurônios na camada intermediária e fator de regularização igual à {} foi encontrado o maior coeficiente de determinação R^2 médio de validação cruzada sobre o conjunto de treinamento: {} +/- {}%'.format(best_Nneuronios, best_lambda, round(best_score,3), round(best_score_std, 3)))"
   ]
  },
  {
   "cell_type": "code",
   "execution_count": null,
   "metadata": {},
   "outputs": [],
   "source": [
    "r2s, costs = getRegressionScores(ELM, X_train_scl, y_train, X_test_scl, y_test, best_Nneuronios, best_lambda)\n",
    "\n",
    "print('R^2 score médio e desvio padrão após dez tentativas {} +/- {}'.format(round(np.mean(r2s),3), round(np.std(r2s),3)))\n",
    "print('Custo médio e desvio padrão após dez tentativas {} +/- {}'.format(round(np.mean(costs),3), round(np.std(costs),3)))"
   ]
  },
  {
   "source": [
    "RBF"
   ],
   "cell_type": "markdown",
   "metadata": {}
  },
  {
   "cell_type": "code",
   "execution_count": 12,
   "metadata": {},
   "outputs": [
    {
     "output_type": "execute_result",
     "data": {
      "text/plain": [
       "GridSearchCV(cv=10, estimator=RBF(classificator=False), n_jobs=-1,\n",
       "             param_grid={'lambdar': [0, 10, 100, 1000, 10000, 100000],\n",
       "                         'p': [32, 64]})"
      ]
     },
     "metadata": {},
     "execution_count": 12
    }
   ],
   "source": [
    "NNeuronios = [32, 64]\n",
    "lambdas = [0, 10, 100, 1000, 10000, 100000]\n",
    "\n",
    "parameters = {'p':NNeuronios, 'lambdar':lambdas}\n",
    "model = RBF( classificator = False)\n",
    "\n",
    "clf = GridSearchCV(model, parameters, n_jobs = -1, cv = 10)\n",
    "clf.fit(X_train_scl, y_train)"
   ]
  },
  {
   "cell_type": "code",
   "execution_count": 13,
   "metadata": {},
   "outputs": [
    {
     "output_type": "stream",
     "name": "stdout",
     "text": [
      "Ao utilizar 64 neurônios na camada intermediária e fator de regularização igual à 0 foi encontrado o maior coeficiente de determinação R^2 médio de validação cruzada sobre o conjunto de treinamento: 0.202 +/- 0.095%\n"
     ]
    }
   ],
   "source": [
    "idx = np.where(clf.cv_results_['mean_test_score'] == np.amax(clf.cv_results_['mean_test_score']))[0][0]\n",
    "best_score = clf.cv_results_['mean_test_score'][idx]\n",
    "best_score_std = clf.cv_results_['std_test_score'][idx]\n",
    "\n",
    "best_Nneuronios = clf.best_params_['p']\n",
    "best_lambda = clf.best_params_['lambdar']\n",
    "\n",
    "print('Ao utilizar {} neurônios na camada intermediária e fator de regularização igual à {} foi encontrado o maior coeficiente de determinação R^2 médio de validação cruzada sobre o conjunto de treinamento: {} +/- {}%'.format(best_Nneuronios, best_lambda, round(best_score,3), round(best_score_std, 3)))"
   ]
  },
  {
   "cell_type": "code",
   "execution_count": 14,
   "metadata": {},
   "outputs": [
    {
     "output_type": "error",
     "ename": "LinAlgError",
     "evalue": "Singular matrix",
     "traceback": [
      "\u001b[1;31m---------------------------------------------------------------------------\u001b[0m",
      "\u001b[1;31mLinAlgError\u001b[0m                               Traceback (most recent call last)",
      "\u001b[1;32m<ipython-input-14-86e3b16fbeb8>\u001b[0m in \u001b[0;36m<module>\u001b[1;34m\u001b[0m\n\u001b[1;32m----> 1\u001b[1;33m \u001b[0mr2s\u001b[0m\u001b[1;33m,\u001b[0m \u001b[0mcosts\u001b[0m \u001b[1;33m=\u001b[0m \u001b[0mgetRegressionScores\u001b[0m\u001b[1;33m(\u001b[0m\u001b[0mRBF\u001b[0m\u001b[1;33m,\u001b[0m \u001b[0mX_train_scl\u001b[0m\u001b[1;33m,\u001b[0m \u001b[0my_train\u001b[0m\u001b[1;33m,\u001b[0m \u001b[0mX_test_scl\u001b[0m\u001b[1;33m,\u001b[0m \u001b[0my_test\u001b[0m\u001b[1;33m,\u001b[0m \u001b[0mbest_Nneuronios\u001b[0m\u001b[1;33m,\u001b[0m \u001b[0mbest_lambda\u001b[0m\u001b[1;33m)\u001b[0m\u001b[1;33m\u001b[0m\u001b[1;33m\u001b[0m\u001b[0m\n\u001b[0m\u001b[0;32m      2\u001b[0m \u001b[1;33m\u001b[0m\u001b[0m\n\u001b[0;32m      3\u001b[0m \u001b[0mprint\u001b[0m\u001b[1;33m(\u001b[0m\u001b[1;34m'R^2 score médio e desvio padrão após dez tentativas {} +/- {}'\u001b[0m\u001b[1;33m.\u001b[0m\u001b[0mformat\u001b[0m\u001b[1;33m(\u001b[0m\u001b[0mround\u001b[0m\u001b[1;33m(\u001b[0m\u001b[0mnp\u001b[0m\u001b[1;33m.\u001b[0m\u001b[0mmean\u001b[0m\u001b[1;33m(\u001b[0m\u001b[0mr2s\u001b[0m\u001b[1;33m)\u001b[0m\u001b[1;33m,\u001b[0m\u001b[1;36m3\u001b[0m\u001b[1;33m)\u001b[0m\u001b[1;33m,\u001b[0m \u001b[0mround\u001b[0m\u001b[1;33m(\u001b[0m\u001b[0mnp\u001b[0m\u001b[1;33m.\u001b[0m\u001b[0mstd\u001b[0m\u001b[1;33m(\u001b[0m\u001b[0mr2s\u001b[0m\u001b[1;33m)\u001b[0m\u001b[1;33m,\u001b[0m\u001b[1;36m3\u001b[0m\u001b[1;33m)\u001b[0m\u001b[1;33m)\u001b[0m\u001b[1;33m)\u001b[0m\u001b[1;33m\u001b[0m\u001b[1;33m\u001b[0m\u001b[0m\n\u001b[0;32m      4\u001b[0m \u001b[0mprint\u001b[0m\u001b[1;33m(\u001b[0m\u001b[1;34m'Custo médio e desvio padrão após dez tentativas {} +/- {}'\u001b[0m\u001b[1;33m.\u001b[0m\u001b[0mformat\u001b[0m\u001b[1;33m(\u001b[0m\u001b[0mround\u001b[0m\u001b[1;33m(\u001b[0m\u001b[0mnp\u001b[0m\u001b[1;33m.\u001b[0m\u001b[0mmean\u001b[0m\u001b[1;33m(\u001b[0m\u001b[0mcosts\u001b[0m\u001b[1;33m)\u001b[0m\u001b[1;33m,\u001b[0m\u001b[1;36m3\u001b[0m\u001b[1;33m)\u001b[0m\u001b[1;33m,\u001b[0m \u001b[0mround\u001b[0m\u001b[1;33m(\u001b[0m\u001b[0mnp\u001b[0m\u001b[1;33m.\u001b[0m\u001b[0mstd\u001b[0m\u001b[1;33m(\u001b[0m\u001b[0mcosts\u001b[0m\u001b[1;33m)\u001b[0m\u001b[1;33m,\u001b[0m\u001b[1;36m3\u001b[0m\u001b[1;33m)\u001b[0m\u001b[1;33m)\u001b[0m\u001b[1;33m)\u001b[0m\u001b[1;33m\u001b[0m\u001b[1;33m\u001b[0m\u001b[0m\n",
      "\u001b[1;32mc:\\Users\\Leonam\\Desktop\\Mestrado\\Disciplinas\\Redes Neurais\\Artigo 02\\Classificadores.py\u001b[0m in \u001b[0;36mgetRegressionScores\u001b[1;34m(model, X_train, Y_train, X_test, Y_test, NNeuronios, lambdar, iterations)\u001b[0m\n\u001b[0;32m    514\u001b[0m         \u001b[0mclassifier_model\u001b[0m\u001b[1;33m.\u001b[0m\u001b[0mfit\u001b[0m\u001b[1;33m(\u001b[0m\u001b[0mX_train\u001b[0m\u001b[1;33m,\u001b[0m \u001b[0mY_train\u001b[0m\u001b[1;33m)\u001b[0m\u001b[1;33m\u001b[0m\u001b[1;33m\u001b[0m\u001b[0m\n\u001b[0;32m    515\u001b[0m         \u001b[0mr2s\u001b[0m\u001b[1;33m[\u001b[0m\u001b[0mi\u001b[0m\u001b[1;33m]\u001b[0m \u001b[1;33m=\u001b[0m \u001b[0mr2_score\u001b[0m\u001b[1;33m(\u001b[0m\u001b[0mY_test\u001b[0m\u001b[1;33m,\u001b[0m \u001b[0mclassifier_model\u001b[0m\u001b[1;33m.\u001b[0m\u001b[0mpredict\u001b[0m\u001b[1;33m(\u001b[0m\u001b[0mX_test\u001b[0m\u001b[1;33m)\u001b[0m\u001b[1;33m)\u001b[0m\u001b[1;33m\u001b[0m\u001b[1;33m\u001b[0m\u001b[0m\n\u001b[1;32m--> 516\u001b[1;33m         \u001b[0mcosts\u001b[0m\u001b[1;33m[\u001b[0m\u001b[0mi\u001b[0m\u001b[1;33m]\u001b[0m \u001b[1;33m=\u001b[0m \u001b[0mclassifier_model\u001b[0m\u001b[1;33m.\u001b[0m\u001b[0mcostFunction\u001b[0m\u001b[1;33m(\u001b[0m\u001b[0mX_test\u001b[0m\u001b[1;33m,\u001b[0m \u001b[0mY_test\u001b[0m\u001b[1;33m)\u001b[0m\u001b[1;33m\u001b[0m\u001b[1;33m\u001b[0m\u001b[0m\n\u001b[0m\u001b[0;32m    517\u001b[0m     \u001b[1;32mreturn\u001b[0m \u001b[0mr2s\u001b[0m\u001b[1;33m,\u001b[0m \u001b[0mcosts\u001b[0m\u001b[1;33m\u001b[0m\u001b[1;33m\u001b[0m\u001b[0m\n\u001b[0;32m    518\u001b[0m \u001b[1;33m\u001b[0m\u001b[0m\n",
      "\u001b[1;32mc:\\Users\\Leonam\\Desktop\\Mestrado\\Disciplinas\\Redes Neurais\\Artigo 02\\Classificadores.py\u001b[0m in \u001b[0;36mcostFunction\u001b[1;34m(self, X, Y)\u001b[0m\n\u001b[0;32m    179\u001b[0m \u001b[1;33m\u001b[0m\u001b[0m\n\u001b[0;32m    180\u001b[0m         \u001b[1;31m# Calcula matriz de projeção P\u001b[0m\u001b[1;33m\u001b[0m\u001b[1;33m\u001b[0m\u001b[1;33m\u001b[0m\u001b[0m\n\u001b[1;32m--> 181\u001b[1;33m         \u001b[0mP\u001b[0m \u001b[1;33m=\u001b[0m \u001b[0mnp\u001b[0m\u001b[1;33m.\u001b[0m\u001b[0midentity\u001b[0m\u001b[1;33m(\u001b[0m\u001b[0mX\u001b[0m\u001b[1;33m.\u001b[0m\u001b[0mshape\u001b[0m\u001b[1;33m[\u001b[0m\u001b[1;36m0\u001b[0m\u001b[1;33m]\u001b[0m\u001b[1;33m)\u001b[0m \u001b[1;33m-\u001b[0m \u001b[0mnp\u001b[0m\u001b[1;33m.\u001b[0m\u001b[0mdot\u001b[0m\u001b[1;33m(\u001b[0m\u001b[0mnp\u001b[0m\u001b[1;33m.\u001b[0m\u001b[0mdot\u001b[0m\u001b[1;33m(\u001b[0m\u001b[0mH\u001b[0m\u001b[1;33m,\u001b[0m \u001b[0mnp\u001b[0m\u001b[1;33m.\u001b[0m\u001b[0mlinalg\u001b[0m\u001b[1;33m.\u001b[0m\u001b[0minv\u001b[0m\u001b[1;33m(\u001b[0m\u001b[0mA\u001b[0m\u001b[1;33m)\u001b[0m\u001b[1;33m)\u001b[0m\u001b[1;33m,\u001b[0m \u001b[0mH\u001b[0m\u001b[1;33m.\u001b[0m\u001b[0mT\u001b[0m\u001b[1;33m)\u001b[0m\u001b[1;33m\u001b[0m\u001b[1;33m\u001b[0m\u001b[0m\n\u001b[0m\u001b[0;32m    182\u001b[0m \u001b[1;33m\u001b[0m\u001b[0m\n\u001b[0;32m    183\u001b[0m         \u001b[1;31m# Custo devido à diferença média quadrática\u001b[0m\u001b[1;33m\u001b[0m\u001b[1;33m\u001b[0m\u001b[1;33m\u001b[0m\u001b[0m\n",
      "\u001b[1;32m<__array_function__ internals>\u001b[0m in \u001b[0;36minv\u001b[1;34m(*args, **kwargs)\u001b[0m\n",
      "\u001b[1;32m~\\anaconda3\\lib\\site-packages\\numpy\\linalg\\linalg.py\u001b[0m in \u001b[0;36minv\u001b[1;34m(a)\u001b[0m\n\u001b[0;32m    544\u001b[0m     \u001b[0msignature\u001b[0m \u001b[1;33m=\u001b[0m \u001b[1;34m'D->D'\u001b[0m \u001b[1;32mif\u001b[0m \u001b[0misComplexType\u001b[0m\u001b[1;33m(\u001b[0m\u001b[0mt\u001b[0m\u001b[1;33m)\u001b[0m \u001b[1;32melse\u001b[0m \u001b[1;34m'd->d'\u001b[0m\u001b[1;33m\u001b[0m\u001b[1;33m\u001b[0m\u001b[0m\n\u001b[0;32m    545\u001b[0m     \u001b[0mextobj\u001b[0m \u001b[1;33m=\u001b[0m \u001b[0mget_linalg_error_extobj\u001b[0m\u001b[1;33m(\u001b[0m\u001b[0m_raise_linalgerror_singular\u001b[0m\u001b[1;33m)\u001b[0m\u001b[1;33m\u001b[0m\u001b[1;33m\u001b[0m\u001b[0m\n\u001b[1;32m--> 546\u001b[1;33m     \u001b[0mainv\u001b[0m \u001b[1;33m=\u001b[0m \u001b[0m_umath_linalg\u001b[0m\u001b[1;33m.\u001b[0m\u001b[0minv\u001b[0m\u001b[1;33m(\u001b[0m\u001b[0ma\u001b[0m\u001b[1;33m,\u001b[0m \u001b[0msignature\u001b[0m\u001b[1;33m=\u001b[0m\u001b[0msignature\u001b[0m\u001b[1;33m,\u001b[0m \u001b[0mextobj\u001b[0m\u001b[1;33m=\u001b[0m\u001b[0mextobj\u001b[0m\u001b[1;33m)\u001b[0m\u001b[1;33m\u001b[0m\u001b[1;33m\u001b[0m\u001b[0m\n\u001b[0m\u001b[0;32m    547\u001b[0m     \u001b[1;32mreturn\u001b[0m \u001b[0mwrap\u001b[0m\u001b[1;33m(\u001b[0m\u001b[0mainv\u001b[0m\u001b[1;33m.\u001b[0m\u001b[0mastype\u001b[0m\u001b[1;33m(\u001b[0m\u001b[0mresult_t\u001b[0m\u001b[1;33m,\u001b[0m \u001b[0mcopy\u001b[0m\u001b[1;33m=\u001b[0m\u001b[1;32mFalse\u001b[0m\u001b[1;33m)\u001b[0m\u001b[1;33m)\u001b[0m\u001b[1;33m\u001b[0m\u001b[1;33m\u001b[0m\u001b[0m\n\u001b[0;32m    548\u001b[0m \u001b[1;33m\u001b[0m\u001b[0m\n",
      "\u001b[1;32m~\\anaconda3\\lib\\site-packages\\numpy\\linalg\\linalg.py\u001b[0m in \u001b[0;36m_raise_linalgerror_singular\u001b[1;34m(err, flag)\u001b[0m\n\u001b[0;32m     86\u001b[0m \u001b[1;33m\u001b[0m\u001b[0m\n\u001b[0;32m     87\u001b[0m \u001b[1;32mdef\u001b[0m \u001b[0m_raise_linalgerror_singular\u001b[0m\u001b[1;33m(\u001b[0m\u001b[0merr\u001b[0m\u001b[1;33m,\u001b[0m \u001b[0mflag\u001b[0m\u001b[1;33m)\u001b[0m\u001b[1;33m:\u001b[0m\u001b[1;33m\u001b[0m\u001b[1;33m\u001b[0m\u001b[0m\n\u001b[1;32m---> 88\u001b[1;33m     \u001b[1;32mraise\u001b[0m \u001b[0mLinAlgError\u001b[0m\u001b[1;33m(\u001b[0m\u001b[1;34m\"Singular matrix\"\u001b[0m\u001b[1;33m)\u001b[0m\u001b[1;33m\u001b[0m\u001b[1;33m\u001b[0m\u001b[0m\n\u001b[0m\u001b[0;32m     89\u001b[0m \u001b[1;33m\u001b[0m\u001b[0m\n\u001b[0;32m     90\u001b[0m \u001b[1;32mdef\u001b[0m \u001b[0m_raise_linalgerror_nonposdef\u001b[0m\u001b[1;33m(\u001b[0m\u001b[0merr\u001b[0m\u001b[1;33m,\u001b[0m \u001b[0mflag\u001b[0m\u001b[1;33m)\u001b[0m\u001b[1;33m:\u001b[0m\u001b[1;33m\u001b[0m\u001b[1;33m\u001b[0m\u001b[0m\n",
      "\u001b[1;31mLinAlgError\u001b[0m: Singular matrix"
     ]
    }
   ],
   "source": [
    "r2s, costs = getRegressionScores(RBF, X_train_scl, y_train, X_test_scl, y_test, best_Nneuronios, best_lambda)\n",
    "\n",
    "print('R^2 score médio e desvio padrão após dez tentativas {} +/- {}'.format(round(np.mean(r2s),3), round(np.std(r2s),3)))\n",
    "print('Custo médio e desvio padrão após dez tentativas {} +/- {}'.format(round(np.mean(costs),3), round(np.std(costs),3)))"
   ]
  },
  {
   "source": [
    "Hebbiano"
   ],
   "cell_type": "markdown",
   "metadata": {}
  },
  {
   "cell_type": "code",
   "execution_count": 9,
   "metadata": {},
   "outputs": [
    {
     "output_type": "execute_result",
     "data": {
      "text/plain": [
       "GridSearchCV(cv=10, estimator=ELMHebbiano(classificator=False), n_jobs=-1,\n",
       "             param_grid={'p': [2, 4, 8, 16, 32, 64, 128, 256, 512, 1024]})"
      ]
     },
     "metadata": {},
     "execution_count": 9
    }
   ],
   "source": [
    "NNeuronios = [2, 4, 8, 16, 32, 64, 128, 256, 512, 1024]\n",
    "\n",
    "parameters = {'p':NNeuronios}\n",
    "model = ELMHebbiano( classificator = False)\n",
    "\n",
    "clf = GridSearchCV(model, parameters, n_jobs = -1, cv = 10)\n",
    "clf.fit(X_train_scl, y_train)"
   ]
  },
  {
   "cell_type": "code",
   "execution_count": 10,
   "metadata": {},
   "outputs": [
    {
     "output_type": "stream",
     "name": "stdout",
     "text": [
      "Ao utilizar 1024 neurônios na camada intermediária foi encontrado o maior coeficiente de determinação R^2 médio de validação cruzada sobre o conjunto de treinamento: -3.244 +/- 0.59%\n"
     ]
    }
   ],
   "source": [
    "idx = np.where(clf.cv_results_['mean_test_score'] == np.amax(clf.cv_results_['mean_test_score']))[0][0]\n",
    "best_score = clf.cv_results_['mean_test_score'][idx]\n",
    "best_score_std = clf.cv_results_['std_test_score'][idx]\n",
    "\n",
    "best_Nneuronios = clf.best_params_['p']\n",
    "\n",
    "print('Ao utilizar {} neurônios na camada intermediária foi encontrado o maior coeficiente de determinação R^2 médio de validação cruzada sobre o conjunto de treinamento: {} +/- {}%'.format(best_Nneuronios, round(best_score,3), round(best_score_std, 3)))"
   ]
  },
  {
   "cell_type": "code",
   "execution_count": 11,
   "metadata": {},
   "outputs": [
    {
     "output_type": "execute_result",
     "data": {
      "text/plain": [
       "array([-4.80670527, -4.74577329, -4.72468039, -4.64563789, -4.55121189,\n",
       "       -4.43538036, -4.25238313, -4.00660735, -3.69282846, -3.24376061])"
      ]
     },
     "metadata": {},
     "execution_count": 11
    }
   ],
   "source": [
    "clf.cv_results_['mean_test_score']"
   ]
  },
  {
   "cell_type": "code",
   "execution_count": null,
   "metadata": {},
   "outputs": [],
   "source": []
  }
 ]
}