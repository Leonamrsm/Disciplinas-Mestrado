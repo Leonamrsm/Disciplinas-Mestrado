{
 "metadata": {
  "language_info": {
   "codemirror_mode": {
    "name": "ipython",
    "version": 3
   },
   "file_extension": ".py",
   "mimetype": "text/x-python",
   "name": "python",
   "nbconvert_exporter": "python",
   "pygments_lexer": "ipython3",
   "version": "3.8.5-final"
  },
  "orig_nbformat": 2,
  "kernelspec": {
   "name": "python3",
   "display_name": "Python 3.8.5 64-bit (conda)",
   "metadata": {
    "interpreter": {
     "hash": "27cd2b025cf7a4378c0151e49e6b1a9cf2095bc8764b6fb84c75c73c9c6afc0e"
    }
   }
  }
 },
 "nbformat": 4,
 "nbformat_minor": 2,
 "cells": [
  {
   "cell_type": "code",
   "execution_count": 17,
   "metadata": {},
   "outputs": [],
   "source": [
    "import numpy as np\n",
    "import pandas as pd\n",
    "import random\n",
    "import matplotlib.pyplot as plt\n",
    "\n",
    "from sklearn.preprocessing import StandardScaler\n",
    "from sklearn.decomposition import PCA\n",
    "from sklearn.model_selection import train_test_split, GridSearchCV\n",
    "from sklearn.linear_model import Perceptron\n",
    "\n",
    "from Classificadores import ELM, RBF, ELMHebbiano, run_cross_validation_on_elms, run_cross_validation_on_perceptron, getMeanAUC, getMeanAUC_Perceptron"
   ]
  },
  {
   "cell_type": "code",
   "execution_count": 2,
   "metadata": {},
   "outputs": [
    {
     "output_type": "execute_result",
     "data": {
      "text/plain": [
       "   variance  skewness  curtosis  entropy  class\n",
       "0   3.62160    8.6661   -2.8073 -0.44699      0\n",
       "1   4.54590    8.1674   -2.4586 -1.46210      0\n",
       "2   3.86600   -2.6383    1.9242  0.10645      0\n",
       "3   3.45660    9.5228   -4.0112 -3.59440      0\n",
       "4   0.32924   -4.4552    4.5718 -0.98880      0"
      ],
      "text/html": "<div>\n<style scoped>\n    .dataframe tbody tr th:only-of-type {\n        vertical-align: middle;\n    }\n\n    .dataframe tbody tr th {\n        vertical-align: top;\n    }\n\n    .dataframe thead th {\n        text-align: right;\n    }\n</style>\n<table border=\"1\" class=\"dataframe\">\n  <thead>\n    <tr style=\"text-align: right;\">\n      <th></th>\n      <th>variance</th>\n      <th>skewness</th>\n      <th>curtosis</th>\n      <th>entropy</th>\n      <th>class</th>\n    </tr>\n  </thead>\n  <tbody>\n    <tr>\n      <th>0</th>\n      <td>3.62160</td>\n      <td>8.6661</td>\n      <td>-2.8073</td>\n      <td>-0.44699</td>\n      <td>0</td>\n    </tr>\n    <tr>\n      <th>1</th>\n      <td>4.54590</td>\n      <td>8.1674</td>\n      <td>-2.4586</td>\n      <td>-1.46210</td>\n      <td>0</td>\n    </tr>\n    <tr>\n      <th>2</th>\n      <td>3.86600</td>\n      <td>-2.6383</td>\n      <td>1.9242</td>\n      <td>0.10645</td>\n      <td>0</td>\n    </tr>\n    <tr>\n      <th>3</th>\n      <td>3.45660</td>\n      <td>9.5228</td>\n      <td>-4.0112</td>\n      <td>-3.59440</td>\n      <td>0</td>\n    </tr>\n    <tr>\n      <th>4</th>\n      <td>0.32924</td>\n      <td>-4.4552</td>\n      <td>4.5718</td>\n      <td>-0.98880</td>\n      <td>0</td>\n    </tr>\n  </tbody>\n</table>\n</div>"
     },
     "metadata": {},
     "execution_count": 2
    }
   ],
   "source": [
    "# Importação da classificação \"labels\" (para todo o conjunto de dados, treinamento e teste)\n",
    "data = pd.read_csv('./datasets/banknote_authentication/data_banknote_authentication.txt')\n",
    "data.head()\n"
   ]
  },
  {
   "cell_type": "code",
   "execution_count": 3,
   "metadata": {},
   "outputs": [
    {
     "output_type": "stream",
     "name": "stdout",
     "text": [
      "<class 'pandas.core.frame.DataFrame'>\nRangeIndex: 1372 entries, 0 to 1371\nData columns (total 5 columns):\n #   Column    Non-Null Count  Dtype  \n---  ------    --------------  -----  \n 0   variance  1372 non-null   float64\n 1   skewness  1372 non-null   float64\n 2   curtosis  1372 non-null   float64\n 3   entropy   1372 non-null   float64\n 4   class     1372 non-null   int64  \ndtypes: float64(4), int64(1)\nmemory usage: 53.7 KB\n"
     ]
    }
   ],
   "source": [
    "# data information\n",
    "data.info()"
   ]
  },
  {
   "cell_type": "code",
   "execution_count": 4,
   "metadata": {},
   "outputs": [
    {
     "output_type": "execute_result",
     "data": {
      "text/plain": [
       "          variance     skewness     curtosis      entropy        class\n",
       "count  1372.000000  1372.000000  1372.000000  1372.000000  1372.000000\n",
       "mean      0.433735     1.922353     1.397627    -1.191657     0.444606\n",
       "std       2.842763     5.869047     4.310030     2.101013     0.497103\n",
       "min      -7.042100   -13.773100    -5.286100    -8.548200     0.000000\n",
       "25%      -1.773000    -1.708200    -1.574975    -2.413450     0.000000\n",
       "50%       0.496180     2.319650     0.616630    -0.586650     0.000000\n",
       "75%       2.821475     6.814625     3.179250     0.394810     1.000000\n",
       "max       6.824800    12.951600    17.927400     2.449500     1.000000"
      ],
      "text/html": "<div>\n<style scoped>\n    .dataframe tbody tr th:only-of-type {\n        vertical-align: middle;\n    }\n\n    .dataframe tbody tr th {\n        vertical-align: top;\n    }\n\n    .dataframe thead th {\n        text-align: right;\n    }\n</style>\n<table border=\"1\" class=\"dataframe\">\n  <thead>\n    <tr style=\"text-align: right;\">\n      <th></th>\n      <th>variance</th>\n      <th>skewness</th>\n      <th>curtosis</th>\n      <th>entropy</th>\n      <th>class</th>\n    </tr>\n  </thead>\n  <tbody>\n    <tr>\n      <th>count</th>\n      <td>1372.000000</td>\n      <td>1372.000000</td>\n      <td>1372.000000</td>\n      <td>1372.000000</td>\n      <td>1372.000000</td>\n    </tr>\n    <tr>\n      <th>mean</th>\n      <td>0.433735</td>\n      <td>1.922353</td>\n      <td>1.397627</td>\n      <td>-1.191657</td>\n      <td>0.444606</td>\n    </tr>\n    <tr>\n      <th>std</th>\n      <td>2.842763</td>\n      <td>5.869047</td>\n      <td>4.310030</td>\n      <td>2.101013</td>\n      <td>0.497103</td>\n    </tr>\n    <tr>\n      <th>min</th>\n      <td>-7.042100</td>\n      <td>-13.773100</td>\n      <td>-5.286100</td>\n      <td>-8.548200</td>\n      <td>0.000000</td>\n    </tr>\n    <tr>\n      <th>25%</th>\n      <td>-1.773000</td>\n      <td>-1.708200</td>\n      <td>-1.574975</td>\n      <td>-2.413450</td>\n      <td>0.000000</td>\n    </tr>\n    <tr>\n      <th>50%</th>\n      <td>0.496180</td>\n      <td>2.319650</td>\n      <td>0.616630</td>\n      <td>-0.586650</td>\n      <td>0.000000</td>\n    </tr>\n    <tr>\n      <th>75%</th>\n      <td>2.821475</td>\n      <td>6.814625</td>\n      <td>3.179250</td>\n      <td>0.394810</td>\n      <td>1.000000</td>\n    </tr>\n    <tr>\n      <th>max</th>\n      <td>6.824800</td>\n      <td>12.951600</td>\n      <td>17.927400</td>\n      <td>2.449500</td>\n      <td>1.000000</td>\n    </tr>\n  </tbody>\n</table>\n</div>"
     },
     "metadata": {},
     "execution_count": 4
    }
   ],
   "source": [
    "# Statistical description\n",
    "data.describe()"
   ]
  },
  {
   "cell_type": "code",
   "execution_count": 5,
   "metadata": {},
   "outputs": [],
   "source": [
    "# Extrai rótulos y dos atributos X\n",
    "\n",
    "y = data['class']\n",
    "y = np.array(y.replace({0:-1}))\n",
    "\n",
    "X = np.array(data.drop(['class'], axis=1))"
   ]
  },
  {
   "cell_type": "code",
   "execution_count": 6,
   "metadata": {},
   "outputs": [],
   "source": [
    "# Divide os atributos em conjunto de treinamento e de testes na razaõ 75%/ 25%\n",
    "X_train, X_test, y_train, y_test = train_test_split(X, y) "
   ]
  },
  {
   "cell_type": "code",
   "execution_count": 7,
   "metadata": {},
   "outputs": [],
   "source": [
    "# Aplica a mesma escala para ambos os datasets\n",
    "scaler = StandardScaler()\n",
    "X_train_scl = scaler.fit_transform(X_train)\n",
    "X_test_scl = scaler.transform(X_test) # note that we transform rather than fit_transform"
   ]
  },
  {
   "source": [
    "### ELM"
   ],
   "cell_type": "markdown",
   "metadata": {}
  },
  {
   "cell_type": "code",
   "execution_count": 37,
   "metadata": {},
   "outputs": [],
   "source": [
    "NNeuronios = [2, 4, 8, 16, 32, 64, 128, 256, 512, 1024]\n",
    "lambdas = [0, 0.0001, 0.001, 0.01, 0.1, 1, 10, 100, 1000, 10000]\n",
    "\n",
    "cv_scores_mean, cv_scores_std = run_cross_validation_on_elms(X_train_scl, y_train, NNeuronios, lambdas, ELM)"
   ]
  },
  {
   "cell_type": "code",
   "execution_count": 41,
   "metadata": {},
   "outputs": [
    {
     "output_type": "stream",
     "name": "stdout",
     "text": [
      "Ao utilizar 64 neurônios na camada intermediária e fator de regularização igual à 0.0001 foi atingindo a melhor acurácia média de validação cruzada sobre o conjunto de treinamento: 100.0 +/- 0.0%\n"
     ]
    }
   ],
   "source": [
    "idx_bestNNeuronios , idx_bestLambda = np.unravel_index(np.argmax(cv_scores_mean, axis=None), cv_scores_mean.shape) \n",
    "best_Nneuronios = NNeuronios[idx_bestNNeuronios]\n",
    "best_lambda = lambdas[idx_bestLambda]\n",
    "best_score = cv_scores_mean[idx_bestNNeuronios][idx_bestLambda]\n",
    "best_score_std = cv_scores_std[idx_bestNNeuronios][idx_bestLambda]\n",
    "\n",
    "print('Ao utilizar {} neurônios na camada intermediária e fator de regularização igual à {} foi atingindo a melhor acurácia média de validação cruzada sobre o conjunto de treinamento: {} +/- {}%'.format(best_Nneuronios, best_lambda, round(best_score*100,3), round(best_score_std*100, 3)))"
   ]
  },
  {
   "cell_type": "code",
   "execution_count": 42,
   "metadata": {},
   "outputs": [
    {
     "output_type": "stream",
     "name": "stdout",
     "text": [
      "AUC médio e desvio padrão após dez tentativas 1.0 +/- 0.0\n"
     ]
    }
   ],
   "source": [
    "meanAUC, stdAUC = getMeanAUC(ELM, X_train_scl, y_train, X_test_scl, y_test, best_Nneuronios, best_lambda)\n",
    "\n",
    "print('AUC médio e desvio padrão após dez tentativas {} +/- {}'.format(round(meanAUC,3), round(stdAUC,3)))"
   ]
  },
  {
   "source": [
    "### RBF"
   ],
   "cell_type": "markdown",
   "metadata": {}
  },
  {
   "cell_type": "code",
   "execution_count": 64,
   "metadata": {},
   "outputs": [
    {
     "output_type": "execute_result",
     "data": {
      "text/plain": [
       "GridSearchCV(cv=10, estimator=RBF(p=2), n_jobs=-1,\n",
       "             param_grid={'lambdar': [0, 1000, 10000, 100000],\n",
       "                         'p': [2, 8, 16, 32, 64, 128]},\n",
       "             scoring='accuracy')"
      ]
     },
     "metadata": {},
     "execution_count": 64
    }
   ],
   "source": [
    "parameters = {'p':NNeuronios, 'lambdar':lambdas}\n",
    "rbf = RBF(p = 2)\n",
    "\n",
    "clf = GridSearchCV(rbf, parameters, scoring='accuracy', n_jobs = -1, cv = 10)\n",
    "clf.fit(X_train_scl, y_train)"
   ]
  },
  {
   "cell_type": "code",
   "execution_count": 78,
   "metadata": {},
   "outputs": [
    {
     "output_type": "stream",
     "name": "stdout",
     "text": [
      "Ao utilizar 64 neurônios na camada intermediária e fator de regularização igual à 10000 foi atingindo a melhor acurácia média de validação cruzada sobre o conjunto de treinamento: 96.988 +/- 1.402%\n"
     ]
    }
   ],
   "source": [
    "idx = np.where(clf.cv_results_['mean_test_score'] == np.amax(clf.cv_results_['mean_test_score']))[0][0]\n",
    "best_score = clf.cv_results_['mean_test_score'][idx]\n",
    "best_score_std = clf.cv_results_['std_test_score'][idx]\n",
    "\n",
    "best_Nneuronios = clf.best_params_['p']\n",
    "best_lambda = clf.best_params_['lambdar']\n",
    "\n",
    "print('Ao utilizar {} neurônios na camada intermediária e fator de regularização igual à {} foi atingindo a melhor acurácia média de validação cruzada sobre o conjunto de treinamento: {} +/- {}%'.format(best_Nneuronios, best_lambda, round(best_score*100,3), round(best_score_std*100, 3)))"
   ]
  },
  {
   "cell_type": "code",
   "execution_count": 79,
   "metadata": {},
   "outputs": [
    {
     "output_type": "stream",
     "name": "stdout",
     "text": [
      "AUC médio e desvio padrão após dez tentativas 0.97 +/- 0.013\n"
     ]
    }
   ],
   "source": [
    "meanAUC, stdAUC = getMeanAUC(RBF, X_train_scl, y_train, X_test_scl, y_test, best_Nneuronios, best_lambda)\n",
    "\n",
    "print('AUC médio e desvio padrão após dez tentativas {} +/- {}'.format(round(meanAUC,3), round(stdAUC,3)))"
   ]
  },
  {
   "source": [
    "### Hebbiano"
   ],
   "cell_type": "markdown",
   "metadata": {}
  },
  {
   "cell_type": "code",
   "execution_count": 10,
   "metadata": {},
   "outputs": [
    {
     "output_type": "execute_result",
     "data": {
      "text/plain": [
       "GridSearchCV(cv=10, estimator=ELMHebbiano(), n_jobs=-1,\n",
       "             param_grid={'lambdar': [0, 0.0001, 0.001, 0.01, 0.1, 1, 10, 100,\n",
       "                                     1000, 10000],\n",
       "                         'p': [2, 4, 8, 16, 32, 64, 128, 256, 512, 1024]},\n",
       "             scoring='accuracy')"
      ]
     },
     "metadata": {},
     "execution_count": 10
    }
   ],
   "source": [
    "NNeuronios = [2, 4, 8, 16, 32, 64, 128, 256, 512, 1024]\n",
    "lambdas = [0, 0.0001, 0.001, 0.01, 0.1, 1, 10, 100, 1000, 10000]\n",
    "\n",
    "parameters = {'p':NNeuronios, 'lambdar':lambdas}\n",
    "heb = ELMHebbiano()\n",
    "\n",
    "clf = GridSearchCV(heb, parameters, scoring='accuracy', n_jobs = -1, cv = 10)\n",
    "clf.fit(X_train_scl, y_train)"
   ]
  },
  {
   "cell_type": "code",
   "execution_count": 11,
   "metadata": {},
   "outputs": [
    {
     "output_type": "stream",
     "name": "stdout",
     "text": [
      "Ao utilizar 64 neurônios na camada intermediária e fator de regularização igual à 1 foi atingindo a melhor acurácia média de validação cruzada sobre o conjunto de treinamento: 86.981 +/- 3.47%\n"
     ]
    }
   ],
   "source": [
    "idx = np.where(clf.cv_results_['mean_test_score'] == np.amax(clf.cv_results_['mean_test_score']))[0][0]\n",
    "best_score = clf.cv_results_['mean_test_score'][idx]\n",
    "best_score_std = clf.cv_results_['std_test_score'][idx]\n",
    "\n",
    "best_Nneuronios = clf.best_params_['p']\n",
    "best_lambda = clf.best_params_['lambdar']\n",
    "\n",
    "print('Ao utilizar {} neurônios na camada intermediária e fator de regularização igual à {} foi atingindo a melhor acurácia média de validação cruzada sobre o conjunto de treinamento: {} +/- {}%'.format(best_Nneuronios, best_lambda, round(best_score*100,3), round(best_score_std*100, 3)))"
   ]
  },
  {
   "cell_type": "code",
   "execution_count": 14,
   "metadata": {},
   "outputs": [
    {
     "output_type": "stream",
     "name": "stdout",
     "text": [
      "AUC médio e desvio padrão após dez tentativas 0.836 +/- 0.03\n"
     ]
    }
   ],
   "source": [
    "meanAUC, stdAUC = getMeanAUC(ELMHebbiano, X_train_scl, y_train, X_test_scl, y_test, best_Nneuronios, best_lambda)\n",
    "\n",
    "print('AUC médio e desvio padrão após dez tentativas {} +/- {}'.format(round(meanAUC,3), round(stdAUC,3)))"
   ]
  },
  {
   "source": [
    "### Perceptron"
   ],
   "cell_type": "markdown",
   "metadata": {}
  },
  {
   "cell_type": "code",
   "execution_count": 18,
   "metadata": {},
   "outputs": [
    {
     "output_type": "execute_result",
     "data": {
      "text/plain": [
       "GridSearchCV(cv=10, estimator=Perceptron(penalty='l2'), n_jobs=-1,\n",
       "             param_grid={'alpha': [0, 0.0001, 0.001, 0.01, 0.1, 1, 10, 100,\n",
       "                                   1000, 10000]},\n",
       "             scoring='accuracy')"
      ]
     },
     "metadata": {},
     "execution_count": 18
    }
   ],
   "source": [
    "lambdas = [0, 0.0001, 0.001, 0.01, 0.1, 1, 10, 100, 1000, 10000]\n",
    "\n",
    "parameters = {'alpha': lambdas}\n",
    "model = Perceptron(penalty='l2')\n",
    "\n",
    "clf = GridSearchCV(model, parameters, scoring='accuracy', n_jobs = -1, cv = 10)\n",
    "clf.fit(X_train_scl, y_train)"
   ]
  },
  {
   "cell_type": "code",
   "execution_count": 19,
   "metadata": {},
   "outputs": [
    {
     "output_type": "stream",
     "name": "stdout",
     "text": [
      "Ao utilizar fator de regularização igual à 0 foi atingindo a melhor acurácia média de validação cruzada sobre o conjunto de treinamento: 98.153 +/- 1.103%\n"
     ]
    }
   ],
   "source": [
    "idx = np.where(clf.cv_results_['mean_test_score'] == np.amax(clf.cv_results_['mean_test_score']))[0][0]\n",
    "best_score = clf.cv_results_['mean_test_score'][idx]\n",
    "best_score_std = clf.cv_results_['std_test_score'][idx]\n",
    "\n",
    "best_lambda = clf.best_params_['alpha']\n",
    "\n",
    "print('Ao utilizar fator de regularização igual à {} foi atingindo a melhor acurácia média de validação cruzada sobre o conjunto de treinamento: {} +/- {}%'.format(best_lambda, round(best_score*100,3), round(best_score_std*100, 3)))"
   ]
  },
  {
   "cell_type": "code",
   "execution_count": 21,
   "metadata": {},
   "outputs": [
    {
     "output_type": "stream",
     "name": "stdout",
     "text": [
      "AUC médio e desvio padrão após dez tentativas 0.985 +/- 0.0\n"
     ]
    }
   ],
   "source": [
    "meanAUC, stdAUC = getMeanAUC_Perceptron(X_train_scl, y_train, X_test_scl, y_test, best_lambda)\n",
    "\n",
    "print('AUC médio e desvio padrão após dez tentativas {} +/- {}'.format(round(meanAUC,3), round(stdAUC,3)))"
   ]
  }
 ]
}